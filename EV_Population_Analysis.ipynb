{
 "cells": [
  {
   "cell_type": "markdown",
   "metadata": {},
   "source": [
    "# Analysis of Washington State's EV Population\n",
    "\n",
    "This notebook explores the EV population dataset from data.wa.gov to understand trends in adoption, popularity of models, and geographical distribution."
   ]
  },
  {
   "cell_type": "code",
   "execution_count": null,
   "metadata": {},
   "outputs": [],
   "source": [
    "# Import necessary libraries\n",
    "import pandas as pd\n",
    "import numpy as np\n",
    "import matplotlib.pyplot as plt\n",
    "import seaborn as sns\n",
    "\n",
    "# Set plot style and figure size\n",
    "sns.set_theme(style=\"whitegrid\")\n",
    "plt.rcParams['figure.figsize'] = (12, 7)\n",
    "\n",
    "print(\"Libraries imported successfully!\")"
   ]
  },
  {
   "cell_type": "markdown",
   "metadata": {},
   "source": [
    "## 1. Data Loading and Initial Cleaning"
   ]
  },
  {
   "cell_type": "code",
   "execution_count": null,
   "metadata": {},
   "outputs": [],
   "source": [
    "# Load the dataset\n",
    "file_path = '../data/Electric_Vehicle_Population_Data.csv'\n",
    "try:\n",
    "    df = pd.read_csv(file_path)\n",
    "    print(\"Dataset loaded successfully!\")\n",
    "    print(f\"The dataset has {df.shape[0]} rows and {df.shape[1]} columns.\")\n",
    "except FileNotFoundError:\n",
    "    print(f\"Error: The file was not found at {file_path}\")"
   ]
  },
  {
   "cell_type": "code",
   "execution_count": null,
   "metadata": {},
   "outputs": [],
   "source": [
    "# Display basic information and the first few rows\n",
    "print(\"\\nDataset Information:\")\n",
    "df.info()\n",
    "\n",
    "print(\"\\nFirst 5 Rows:\")\n",
    "df.head()"
   ]
  },
  {
   "cell_type": "code",
   "execution_count": null,
   "metadata": {},
   "outputs": [],
   "source": [
    "# Check for missing values\n",
    "print(\"Missing values per column:\")\n",
    "df.isnull().sum()"
   ]
  },
  {
   "cell_type": "markdown",
   "metadata": {},
   "source": [
    "## 2. Exploratory Data Analysis (EDA)\n",
    "\n",
    "Let's explore the data to find insights."
   ]
  },
  {
   "cell_type": "markdown",
   "metadata": {},
   "source": [
    "### EV Adoption Growth Over Time (by Model Year)"
   ]
  },
  {
   "cell_type": "code",
   "execution_count": null,
   "metadata": {},
   "outputs": [],
   "source": [
    "# Count vehicles by model year\n",
    "ev_by_year = df['Model Year'].value_counts().sort_index()\n",
    "\n",
    "plt.figure(figsize=(15, 8))\n",
    "sns.barplot(x=ev_by_year.index, y=ev_by_year.values, palette=\"viridis\")\n",
    "plt.title('EV Registrations by Model Year in Washington', fontsize=16)\n",
    "plt.xlabel('Model Year', fontsize=12)\n",
    "plt.ylabel('Number of Vehicles Registered', fontsize=12)\n",
    "plt.xticks(rotation=45)\n",
    "plt.show()"
   ]
  },
  {
   "cell_type": "markdown",
   "metadata": {},
   "source": [
    "**Insight:** There is a clear exponential growth in EV adoption starting around 2016-2017 and accelerating significantly in recent years."
   ]
  },
  {
   "cell_type": "markdown",
   "metadata": {},
   "source": [
    "### Top 10 Counties for EV Adoption"
   ]
  },
  {
   "cell_type": "code",
   "execution_count": null,
   "metadata": {},
   "outputs": [],
   "source": [
    "# Get top 10 counties\n",
    "top_counties = df['County'].value_counts().nlargest(10)\n",
    "\n",
    "plt.figure(figsize=(12, 8))\n",
    "sns.barplot(x=top_counties.values, y=top_counties.index, orient='h', palette='plasma')\n",
    "plt.title('Top 10 Counties by EV Registrations', fontsize=16)\n",
    "plt.xlabel('Number of Vehicles Registered', fontsize=12)\n",
    "plt.ylabel('County', fontsize=12)\n",
    "plt.show()"
   ]
  },
  {
   "cell_type": "markdown",
   "metadata": {},
   "source": [
    "**Insight:** EV adoption is heavily concentrated in King County, which includes Seattle and its suburbs. Snohomish and Pierce counties follow, indicating a strong concentration in the Puget Sound area."
   ]
  },
  {
   "cell_type": "markdown",
   "metadata": {},
   "source": [
    "### Most Popular EV Makes and Models"
   ]
  },
  {
   "cell_type": "code",
   "execution_count": null,
   "metadata": {},
   "outputs": [],
   "source": [
    "# Get top 10 makes\n",
    "top_makes = df['Make'].value_counts().nlargest(10)\n",
    "\n",
    "fig, ax = plt.subplots(1, 2, figsize=(20, 8))\n",
    "\n",
    "sns.barplot(ax=ax[0], x=top_makes.values, y=top_makes.index, palette='magma')\n",
    "ax[0].set_title('Top 10 EV Makes', fontsize=16)\n",
    "ax[0].set_xlabel('Number of Vehicles')\n",
    "ax[0].set_ylabel('Make')\n",
    "\n",
    "# Get top 10 models\n",
    "top_models = df['Model'].value_counts().nlargest(10)\n",
    "sns.barplot(ax=ax[1], x=top_models.values, y=top_models.index, palette='cividis')\n",
    "ax[1].set_title('Top 10 EV Models', fontsize=16)\n",
    "ax[1].set_xlabel('Number of Vehicles')\n",
    "ax[1].set_ylabel('Model')\n",
    "\n",
    "plt.tight_layout()\n",
    "plt.show()"
   ]
  },
  {
   "cell_type": "markdown",
   "metadata": {},
   "source": [
    "**Insight:** Tesla is by far the most dominant make, with the Model Y and Model 3 being the two most popular individual models. The Nissan LEAF and Chevrolet BOLT EV are other popular choices."
   ]
  },
  {
   "cell_type": "markdown",
   "metadata": {},
   "source": [
    "### Battery Electric (BEV) vs. Plug-in Hybrid (PHEV)"
   ]
  },
  {
   "cell_type": "code",
   "execution_count": null,
   "metadata": {},
   "outputs": [],
   "source": [
    "# Analyze EV type\n",
    "ev_type_counts = df['Electric Vehicle Type'].value_counts()\n",
    "\n",
    "plt.figure(figsize=(8, 8))\n",
    "plt.pie(ev_type_counts, labels=ev_type_counts.index, autopct='%1.1f%%', startangle=140, colors=sns.color_palette('pastel'))\n",
    "plt.title('Distribution of EV Types (BEV vs. PHEV)', fontsize=16)\n",
    "plt.show()"
   ]
  },
  {
   "cell_type": "markdown",
   "metadata": {},
   "source": [
    "**Insight:** Washington state owners overwhelmingly prefer fully electric vehicles (BEVs) over plug-in hybrids (PHEVs)."
   ]
  },
  {
   "cell_type": "markdown",
   "metadata": {},
   "source": [
    "### Analysis of Electric Range"
   ]
  },
  {
   "cell_type": "code",
   "execution_count": null,
   "metadata": {},
   "outputs": [],
   "source": [
    "# Analyze the electric range, excluding vehicles with 0 range (often placeholders for PHEVs or missing data)\n",
    "range_df = df[df['Electric Range'] > 0]\n",
    "\n",
    "plt.figure(figsize=(14, 7))\n",
    "sns.histplot(range_df['Electric Range'], bins=50, kde=True, color='navy')\n",
    "plt.title('Distribution of Electric Range for BEVs', fontsize=16)\n",
    "plt.xlabel('Electric Range (miles)', fontsize=12)\n",
    "plt.ylabel('Number of Vehicles', fontsize=12)\n",
    "plt.show()"
   ]
  },
  {
   "cell_type": "markdown",
   "metadata": {},
   "source": [
    "**Insight:** The distribution shows a large number of vehicles with shorter ranges (early models like the LEAF) and significant peaks around the 200-250 and 300+ mile marks, corresponding to modern long-range BEVs."
   ]
  },
  {
   "cell_type": "markdown",
   "metadata": {},
   "source": [
    "## 3. Conclusion\n",
    "\n",
    "This exploratory analysis reveals a rapidly growing and maturing EV market in Washington State. The key takeaways are the market's exponential growth, its heavy concentration in the Puget Sound area, the dominance of Tesla, and a strong consumer preference for fully electric BEVs. These insights provide a clear picture of the current state and future trajectory of electric mobility in Washington."
   ]
  }
 ],
 "metadata": {
  "kernelspec": {
   "display_name": "Python 3",
   "language": "python",
   "name": "python3"
  },
  "language_info": {
   "codemirror_mode": {
    "name": "ipython",
    "version": 3
   },
   "file_extension": ".py",
   "mimetype": "text/x-python",
   "name": "python",
   "nbconvert_exporter": "python",
   "pygments_lexer": "ipython3",
   "version": "3.8.8"
  }
 },
 "nbformat": 4,
 "nbformat_minor": 4
}
