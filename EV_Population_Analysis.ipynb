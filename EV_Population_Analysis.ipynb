{
 "cells":
  },
  {
   "cell_type": "markdown",
   "metadata": {},
   "source": Such projects signal initiative and a readiness to solve tangible business or societal problems.\n",
    "\n",
    "This project intentionally selects the **\"Electric Vehicle Population Data\"** from Washington State, sourced from the U.S. Government's official open data portal, `data.gov`.[2] This dataset is not only rich and complex but also highly relevant to current discussions around climate change, technology, and transportation policy.[6, 7] As one of the most downloaded datasets on the platform, its analysis is of broad public interest.[8] By performing a thorough analysis of this data, this project aims to provide a professional-grade example of a data analysis workflow.\n",
    "\n",
    "### Project Objectives\n",
    "\n",
    "The primary goals of this analysis are:\n",
    "\n",
    "1.  To perform a comprehensive exploratory data analysis (EDA) on the Washington State EV population.\n",
    "2.  To identify key trends in EV adoption over time.\n",
    "3.  To determine the market share and dominance of various manufacturers and models.\n",
    "4.  To analyze the geographical distribution of EVs across the state.\n",
    "5.  To showcase proficiency in Python, `pandas`, and `numpy` for data cleaning, manipulation, and analysis, complemented by `matplotlib` and `seaborn` for visualization."
   ]
  },
  {
   "cell_type": "markdown",
   "metadata": {},
   "source":
  },
  {
   "cell_type": "code",
   "execution_count": null,
   "metadata": {},
   "outputs":,
   "source": = (12, 6)"
   ]
  },
  {
   "cell_type": "markdown",
   "metadata": {},
   "source": The specific dataset, \"Electric Vehicle Population Data,\" is maintained by the State of Washington and provides detailed information on registered electric vehicles. It is available in several formats, including CSV, which is ideal for loading into a `pandas` DataFrame."
   ]
  },
  {
   "cell_type": "markdown",
   "metadata": {},
   "source":
  },
  {
   "cell_type": "code",
   "execution_count": null,
   "metadata": {},
   "outputs":,
   "source":
  },
  {
   "cell_type": "markdown",
   "metadata": {},
   "source":
  },
  {
   "cell_type": "code",
   "execution_count": null,
   "metadata": {},
   "outputs":,
   "source":
  },
  {
   "cell_type": "code",
   "execution_count": null,
   "metadata": {},
   "outputs":,
   "source":} rows and {ev_df.shape} columns.\")"
   ]
  },
  {
   "cell_type": "code",
   "execution_count": null,
   "metadata": {},
   "outputs":,
   "source":
  },
  {
   "cell_type": "code",
   "execution_count": null,
   "metadata": {},
   "outputs":,
   "source": [
    "# Generate descriptive statistics for all columns\n",
    "ev_df.describe(include='all')"
   ]
  },
  {
   "cell_type": "markdown",
   "metadata": {},
   "source":
  },
  {
   "cell_type": "markdown",
   "metadata": {},
   "source":
  },
  {
   "cell_type": "markdown",
   "metadata": {},
   "source": This phase is not merely a procedural chore; it is an opportunity to apply logical reasoning and technical skill to improve the quality and reliability of the data. Each decision made during cleaning directly impacts the validity of the final analysis. Therefore, every step will be documented and justified, transforming this process into a transparent demonstration of analytical rigor."
   ]
  },
  {
   "cell_type": "markdown",
   "metadata": {},
   "source":
  },
  {
   "cell_type": "code",
   "execution_count": null,
   "metadata": {},
   "outputs":,
   "source": [
    "# Calculate and display the number of missing values per column\n",
    "missing_values = ev_df.isnull().sum()\n",
    "print(\"Missing values per column:\")\n",
    "print(missing_values[missing_values > 0])"
   ]
  },
  {
   "cell_type": "markdown",
   "metadata": {},
   "source":
  },
  {
   "cell_type": "code",
   "execution_count": null,
   "metadata": {},
   "outputs":,
   "source": = ev_df.replace(0, np.nan)\n",
    "ev_df = ev_df.replace(0, np.nan)\n",
    "\n",
    "# Drop rows with missing values in key geographic or identifying columns\n",
    "columns_to_check =\n",
    "ev_df.dropna(subset=columns_to_check, inplace=True)\n",
    "\n",
    "# Display the shape of the DataFrame after dropping rows\n",
    "print(f\"DataFrame shape after handling missing values: {ev_df.shape}\")"
   ]
  },
  {
   "cell_type": "markdown",
   "metadata": {},
   "source":
  },
  {
   "cell_type": "code",
   "execution_count": null,
   "metadata": {},
   "outputs":,
   "source": = ev_df['Postal Code'].astype(int).astype(str)\n",
    "ev_df = ev_df.astype(int).astype(str)\n",
    "\n",
    "print(\"Corrected data types for 'Postal Code' and 'Legislative District':\")\n",
    "print(ev_df].dtypes)"
   ]
  },
  {
   "cell_type": "markdown",
   "metadata": {},
   "source":
  },
  {
   "cell_type": "code",
   "execution_count": null,
   "metadata": {},
   "outputs":,
   "source": [
    "# 1. Create 'Vehicle Age' feature\n",
    "current_year = 2024\n",
    "ev_df['Vehicle Age'] = current_year - ev_df\n",
    "\n",
    "# 2. Create 'Range Category' feature\n",
    "range_bins = [0, 100, 250, np.inf]\n",
    "range_labels =\n",
    "ev_df = pd.cut(ev_df, bins=range_bins, labels=range_labels, right=False)\n",
    "\n",
    "# 3. Create 'Manufacturer Type' feature\n",
    "ev_native_brands =\n",
    "ev_df = np.where(ev_df['Make'].isin(ev_native_brands), 'EV-Native', 'Legacy Automaker')\n",
    "\n",
    "# Display the first few rows with the new features\n",
    "ev_df].head()"
   ]
  },
  {
   "cell_type": "markdown",
   "metadata": {},
   "source":
  },
  {
   "cell_type": "markdown",
   "metadata": {},
   "source":
  },
  {
   "cell_type": "markdown",
   "metadata": {},
   "source":
  },
  {
   "cell_type": "markdown",
   "metadata": {},
   "source":
  },
  {
   "cell_type": "code",
   "execution_count": null,
   "metadata": {},
   "outputs":,
   "source":.value_counts().sort_index()\n",
    "\n",
    "# Filter out early years with very few vehicles for better visualization\n",
    "yearly_adoption = yearly_adoption[yearly_adoption.index >= 2010]\n",
    "\n",
    "# Calculate cumulative sum for overall growth\n",
    "cumulative_adoption = yearly_adoption.cumsum()\n",
    "\n",
    "# Create subplots\n",
    "fig, (ax1, ax2) = plt.subplots(2, 1, figsize=(14, 12), sharex=True)\n",
    "\n",
    "# Plot 1: New EV Registrations per Model Year\n",
    "sns.barplot(x=yearly_adoption.index, y=yearly_adoption.values, ax=ax1, color='skyblue')\n",
    "ax1.set_title('New EV Registrations by Model Year in Washington State', fontsize=16)\n",
    "ax1.set_ylabel('Number of Vehicles Registered')\n",
    "ax1.tick_params(axis='x', rotation=45)\n",
    "\n",
    "# Plot 2: Cumulative Growth of EV Population\n",
    "ax2.plot(cumulative_adoption.index, cumulative_adoption.values, marker='o', linestyle='-', color='royalblue')\n",
    "ax2.set_title('Cumulative Growth of EV Population by Model Year', fontsize=16)\n",
    "ax2.set_xlabel('Model Year')\n",
    "ax2.set_ylabel('Total Number of Vehicles')\n",
    "\n",
    "plt.tight_layout()\n",
    "plt.show()"
   ]
  },
  {
   "cell_type": "markdown",
   "metadata": {},
   "source":
  },
  {
   "cell_type": "markdown",
   "metadata": {},
   "source":
  },
  {
   "cell_type": "code",
   "execution_count": null,
   "metadata": {},
   "outputs":,
   "source": [
    "# Get the top 10 manufacturers\n",
    "top_makes = ev_df['Make'].value_counts().nlargest(10)\n",
    "\n",
    "# Get the top 10 models (by combining Make and Model)\n",
    "ev_df['Make-Model'] = ev_df['Make'] + ' ' + ev_df['Model']\n",
    "top_models = ev_df['Make-Model'].value_counts().nlargest(10)\n",
    "\n",
    "# Create subplots\n",
    "fig, (ax1, ax2) = plt.subplots(1, 2, figsize=(18, 8))\n",
    "\n",
    "# Plot 1: Top 10 EV Manufacturers\n",
    "sns.barplot(y=top_makes.index, x=top_makes.values, ax=ax1, palette='viridis', orient='h')\n",
    "ax1.set_title('Top 10 EV Manufacturers by Registrations', fontsize=16)\n",
    "ax1.set_xlabel('Number of Vehicles Registered')\n",
    "ax1.set_ylabel('Manufacturer')\n",
    "\n",
    "# Plot 2: Top 10 EV Models\n",
    "sns.barplot(y=top_models.index, x=top_models.values, ax=ax2, palette='plasma', orient='h')\n",
    "ax2.set_title('Top 10 EV Models by Registrations', fontsize=16)\n",
    "ax2.set_xlabel('Number of Vehicles Registered')\n",
    "ax2.set_ylabel('Model')\n",
    "\n",
    "plt.tight_layout()\n",
    "plt.show()"
   ]
  },
  {
   "cell_type": "markdown",
   "metadata": {},
   "source":
  },
  {
   "cell_type": "markdown",
   "metadata": {},
   "source":
  },
  {
   "cell_type": "markdown",
   "metadata": {},
   "source":
  },
  {
   "cell_type": "markdown",
   "metadata": {},
   "source":
  },
  {
   "cell_type": "code",
   "execution_count": null,
   "metadata": {},
   "outputs":,
   "source": [
    "# Get the top 15 counties by EV count\n",
    "top_counties = ev_df['County'].value_counts().nlargest(15)\n",
    "\n",
    "# Plot the top 15 counties\n",
    "plt.figure(figsize=(14, 8))\n",
    "sns.barplot(x=top_counties.values, y=top_counties.index, palette='mako', orient='h')\n",
    "plt.title('Top 15 Counties by EV Registration Count', fontsize=16)\n",
    "plt.xlabel('Number of Vehicles Registered')\n",
    "plt.ylabel('County')\n",
    "plt.show()"
   ]
  },
  {
   "cell_type": "markdown",
   "metadata": {},
   "source":"
   ]
  },
  {
   "cell_type": "markdown",
   "metadata": {},
   "source":
  },
  {
   "cell_type": "code",
   "execution_count": null,
   "metadata": {},
   "outputs":,
   "source":.value_counts()\n",
    "\n",
    "# 2. Analyze the evolution of electric range over time\n",
    "avg_range_by_year = ev_df.groupby('Model Year').mean().dropna()\n",
    "avg_range_by_year = avg_range_by_year[avg_range_by_year.index >= 2010]\n",
    "\n",
    "# Create subplots\n",
    "fig, (ax1, ax2) = plt.subplots(1, 2, figsize=(18, 7))\n",
    "\n",
    "# Plot 1: Proportion of BEV vs. PHEV\n",
    "ax1.pie(ev_type_counts, labels=ev_type_counts.index, autopct='%1.1f%%', startangle=90, colors=['#3498db', '#95a5a6'])\n",
    "ax1.set_title('Proportion of EV Types', fontsize=16)\n",
    "\n",
    "# Plot 2: Average Electric Range by Model Year\n",
    "sns.regplot(x=avg_range_by_year.index, y=avg_range_by_year.values, ax=ax2, scatter_kws={'s': 50}, line_kws={'color': 'red'})\n",
    "ax2.set_title('Average Electric Range by Model Year', fontsize=16)\n",
    "ax2.set_xlabel('Model Year')\n",
    "ax2.set_ylabel('Average Electric Range (miles)')\n",
    "ax2.set_ylim(0)\n",
    "\n",
    "plt.tight_layout()\n",
    "plt.show()"
   ]
  },
  {
   "cell_type": "markdown",
   "metadata": {},
   "source":
  },
  {
   "cell_type": "markdown",
   "metadata": {},
   "source":
  },
  {
   "cell_type": "markdown",
   "metadata": {},
   "source":
  },
  {
   "cell_type": "markdown",
   "metadata": {},
   "source":
  },
  {
   "cell_type": "markdown",
   "metadata": {},
   "source":
  },
  {
   "cell_type": "markdown",
   "metadata": {},
   "source":\n",
    "\n",
    "2.  **Data Enrichment**: To overcome the limitations of the current dataset, it could be enriched by joining it with other public data sources. For example:\n",
    "    -   **U.S. Census Data**: Merging with demographic data by `Postal Code` or `County` could uncover correlations between EV ownership and factors like median household income, population density, or education levels.[9]\n",
    "    -   **Charging Station Data**: Integrating data on the locations of public charging stations could facilitate an analysis of infrastructure adequacy and its relationship to EV adoption patterns.\n",
    "\n",
    "3.  **Time Series Analysis**: With historical registration data, more advanced time-series forecasting models (e.g., ARIMA or Prophet) could be developed to predict future EV registrations in Washington, providing valuable insights for policymakers and utility companies.[9]"
   ]
  }
 ],
 "metadata": {
  "kernelspec": {
   "display_name": "Python 3 (ipykernel)",
   "language": "python",
   "name": "python3"
  },
  "language_info": {
   "codemirror_mode": {
    "name": "ipython",
    "version": 3
   },
   "file_extension": ".py",
   "mimetype": "text/x-python",
   "name": "python",
   "nbconvert_exporter": "python",
   "pygments_lexer": "ipython3",
   "version": "3.9.12"
  }
 },
 "nbformat": 4,
 "nbformat_minor": 4
}